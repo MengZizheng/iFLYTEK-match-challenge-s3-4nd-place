{
 "cells": [
  {
   "cell_type": "code",
   "execution_count": 1,
   "id": "dff9b77c-f5b6-4656-9187-8fc23c7daf7e",
   "metadata": {},
   "outputs": [],
   "source": [
    "import json\n",
    "\n",
    "\n",
    "# 读取数据\n",
    "with open(\"../xfdata/dataset/job_list.json\", \"r\", encoding=\"utf-8\") as f:\n",
    "    job_list = json.load(f)\n",
    "with open(\"../xfdata/dataset/train.json\", \"r\", encoding=\"utf-8\") as f:\n",
    "    train = json.load(f)\n",
    "with open(\"../xfdata/dataset/test.json\", \"r\", encoding=\"utf-8\") as f:\n",
    "    test = json.load(f)"
   ]
  },
  {
   "cell_type": "code",
   "execution_count": 2,
   "id": "09d666b1-9d51-4da8-9639-a4af57ddc152",
   "metadata": {},
   "outputs": [
    {
     "name": "stdout",
     "output_type": "stream",
     "text": [
      "51\n"
     ]
    }
   ],
   "source": [
    "from sklearn.model_selection import train_test_split\n",
    "from sklearn.preprocessing import LabelEncoder\n",
    "import pandas as pd\n",
    "import numpy as np\n",
    "\n",
    "# 获取标签\n",
    "labels = [i[\"positionID\"] for i in train]\n",
    "labelencoder = LabelEncoder()\n",
    "labels = labelencoder.fit_transform(labels)\n",
    "print(len(np.unique(labels)))"
   ]
  },
  {
   "cell_type": "code",
   "execution_count": 3,
   "id": "7118ff5f-d1bd-443c-8e64-6406210c473d",
   "metadata": {},
   "outputs": [],
   "source": [
    "import numpy as np \n",
    "\n",
    "\n",
    "pred_profileAwards = np.load(\"../user_data/pred_matrix/profileAwards.npy\")\n",
    "pred_profileDesire = np.load(\"../user_data/pred_matrix/profileDesire.npy\")\n",
    "pred_profileEduExps = np.load(\"../user_data/pred_matrix/profileEduExps.npy\")\n",
    "pred_profileLanguage = np.load(\"../user_data/pred_matrix/profileLanguage.npy\")\n",
    "pred_profileProjectExps = np.load(\"../user_data/pred_matrix/profileProjectExps.npy\")\n",
    "pred_profileSkills = np.load(\"../user_data/pred_matrix/profileSkills.npy\")\n",
    "pred_profileSocialExps = np.load(\"../user_data/pred_matrix/profileSocialExps.npy\")\n",
    "pred_profileWorkExps = np.load(\"../user_data/pred_matrix/profileWorkExps.npy\")"
   ]
  },
  {
   "cell_type": "code",
   "execution_count": 6,
   "id": "fce6368c-c184-48bd-85d9-f1d3fb75755b",
   "metadata": {},
   "outputs": [],
   "source": [
    "y_pred = (pred_profileAwards + pred_profileDesire + pred_profileEduExps + pred_profileLanguage + pred_profileSkills \\\n",
    "+ pred_profileSocialExps + pred_profileWorkExps).argmax(axis=1)\n",
    "y_pred = labelencoder.inverse_transform(y_pred)\n",
    "\n",
    "df_submit = pd.read_csv(\"../xfdata/example.csv\")\n",
    "df_submit[\"positionID\"] = y_pred\n",
    "df_submit.to_csv(\"../prediction_result/ensemble.csv\", index=False)"
   ]
  }
 ],
 "metadata": {
  "kernelspec": {
   "display_name": "Python 3 (ipykernel)",
   "language": "python",
   "name": "python3"
  },
  "language_info": {
   "codemirror_mode": {
    "name": "ipython",
    "version": 3
   },
   "file_extension": ".py",
   "mimetype": "text/x-python",
   "name": "python",
   "nbconvert_exporter": "python",
   "pygments_lexer": "ipython3",
   "version": "3.10.13"
  }
 },
 "nbformat": 4,
 "nbformat_minor": 5
}
